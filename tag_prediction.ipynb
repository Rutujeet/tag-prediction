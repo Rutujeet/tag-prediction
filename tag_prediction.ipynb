{
  "nbformat": 4,
  "nbformat_minor": 0,
  "metadata": {
    "colab": {
      "provenance": []
    },
    "kernelspec": {
      "name": "python3",
      "display_name": "Python 3"
    },
    "language_info": {
      "name": "python"
    }
  },
  "cells": [
    {
      "cell_type": "code",
      "execution_count": 5,
      "metadata": {
        "id": "46WJ4He02ihP"
      },
      "outputs": [],
      "source": [
        "import pandas as pd\n",
        "from ast import literal_eval"
      ]
    },
    {
      "cell_type": "code",
      "source": [
        "def read_data(filename):\n",
        "    data = pd.read_csv(filename, sep='\\t')\n",
        "    data['tags'] = data['tags'].apply(literal_eval)\n",
        "    return data\n",
        "\n",
        "train = read_data('data/train.tsv')\n",
        "validation = read_data('data/validation.tsv')\n",
        "test = pd.read_csv('data/test.tsv', sep='\\t')\n",
        "\n",
        "X_train, y_train = train['title'].values, train['tags'].values\n",
        "X_val, y_val = validation['title'].values, validation['tags'].values\n",
        "X_test = test['title'].values"
      ],
      "metadata": {
        "id": "NcxeVnJ46l1F"
      },
      "execution_count": 6,
      "outputs": []
    },
    {
      "cell_type": "code",
      "source": [
        "import re\n",
        "import nltk\n",
        "from nltk.tokenize import word_tokenize\n",
        "from nltk.corpus import stopwords\n",
        "\n",
        "# Download necessary NLTK data\n",
        "nltk.download('stopwords')\n",
        "nltk.download('punkt')"
      ],
      "metadata": {
        "colab": {
          "base_uri": "https://localhost:8080/"
        },
        "id": "FCNXcdsj6oX1",
        "outputId": "0b819ce5-c10e-4bc5-de9b-8e1715d9de4b"
      },
      "execution_count": 7,
      "outputs": [
        {
          "output_type": "stream",
          "name": "stderr",
          "text": [
            "[nltk_data] Downloading package stopwords to /root/nltk_data...\n",
            "[nltk_data]   Package stopwords is already up-to-date!\n",
            "[nltk_data] Downloading package punkt to /root/nltk_data...\n",
            "[nltk_data]   Package punkt is already up-to-date!\n"
          ]
        },
        {
          "output_type": "execute_result",
          "data": {
            "text/plain": [
              "True"
            ]
          },
          "metadata": {},
          "execution_count": 7
        }
      ]
    },
    {
      "cell_type": "code",
      "source": [
        "REPLACE_BY_SPACE_RE = re.compile('[/(){}\\[\\]\\|@,;]')\n",
        "BAD_SYMBOLS_RE = re.compile('[^0-9a-z #+_]')\n",
        "STOPWORDS = set(stopwords.words('english'))\n",
        "\n",
        "def text_prepare(text):\n",
        "    text = text.lower()\n",
        "    text = re.sub(REPLACE_BY_SPACE_RE, ' ', text)\n",
        "    text = re.sub(BAD_SYMBOLS_RE, '', text)\n",
        "    return ' '.join(word for word in word_tokenize(text) if word not in STOPWORDS)\n",
        "\n",
        "X_train = [text_prepare(x) for x in X_train]\n",
        "X_val = [text_prepare(x) for x in X_val]\n",
        "X_test = [text_prepare(x) for x in X_test]"
      ],
      "metadata": {
        "id": "o5t8lQ3X6sVg"
      },
      "execution_count": 8,
      "outputs": []
    },
    {
      "cell_type": "code",
      "source": [
        "from collections import Counter\n",
        "\n",
        "words_counts = Counter(word for sentence in X_train for word in sentence.split())\n",
        "tags_counts = Counter(tag for tags in y_train for tag in tags)"
      ],
      "metadata": {
        "id": "R_pHx0e16xRQ"
      },
      "execution_count": 9,
      "outputs": []
    },
    {
      "cell_type": "code",
      "source": [
        "import numpy as np\n",
        "from scipy import sparse as sp_sparse\n",
        "\n",
        "DICT_SIZE = 5000\n",
        "most_common_words = [word for word, _ in words_counts.most_common(DICT_SIZE)]\n",
        "WORDS_TO_INDEX = {word: i for i, word in enumerate(most_common_words)}\n",
        "INDEX_TO_WORDS = {i: word for word, i in WORDS_TO_INDEX.items()}\n",
        "\n",
        "def my_bag_of_words(text, words_to_index, dict_size):\n",
        "    result_vector = np.zeros(dict_size)\n",
        "    for word in text.split():\n",
        "        if word in words_to_index:\n",
        "            result_vector[words_to_index[word]] += 1\n",
        "    return result_vector\n",
        "\n",
        "X_train_mybag = sp_sparse.vstack([sp_sparse.csr_matrix(my_bag_of_words(text, WORDS_TO_INDEX, DICT_SIZE)) for text in X_train])\n",
        "X_val_mybag = sp_sparse.vstack([sp_sparse.csr_matrix(my_bag_of_words(text, WORDS_TO_INDEX, DICT_SIZE)) for text in X_val])\n",
        "X_test_mybag = sp_sparse.vstack([sp_sparse.csr_matrix(my_bag_of_words(text, WORDS_TO_INDEX, DICT_SIZE)) for text in X_test])"
      ],
      "metadata": {
        "id": "GXDU-uiA63Qy"
      },
      "execution_count": 10,
      "outputs": []
    },
    {
      "cell_type": "code",
      "source": [
        "from sklearn.feature_extraction.text import TfidfVectorizer\n",
        "\n",
        "def tfidf_features(X_train, X_val, X_test):\n",
        "    vectorizer = TfidfVectorizer(min_df=5, max_df=0.9, ngram_range=(1, 2), token_pattern=r'(\\S+)')\n",
        "    X_train = vectorizer.fit_transform(X_train)\n",
        "    X_val = vectorizer.transform(X_val)\n",
        "    X_test = vectorizer.transform(X_test)\n",
        "    return X_train, X_val, X_test, vectorizer.vocabulary_\n",
        "\n",
        "X_train_tfidf, X_val_tfidf, X_test_tfidf, tfidf_vocab = tfidf_features(X_train, X_val, X_test)\n",
        "tfidf_reversed_vocab = {i: word for word, i in tfidf_vocab.items()}"
      ],
      "metadata": {
        "id": "zOoXpL9W6-nm"
      },
      "execution_count": 11,
      "outputs": []
    },
    {
      "cell_type": "code",
      "source": [
        "from sklearn.preprocessing import MultiLabelBinarizer\n",
        "\n",
        "mlb = MultiLabelBinarizer(classes=sorted(tags_counts.keys()))\n",
        "y_train = mlb.fit_transform(y_train)\n",
        "y_val = mlb.transform(y_val)"
      ],
      "metadata": {
        "id": "91TdP2LI7DU7"
      },
      "execution_count": 12,
      "outputs": []
    },
    {
      "cell_type": "code",
      "source": [
        "from sklearn.multiclass import OneVsRestClassifier\n",
        "from sklearn.linear_model import LogisticRegression\n",
        "\n",
        "def train_classifier(X_train, y_train, penalty='l2'):\n",
        "    if penalty == 'l1':\n",
        "        model = OneVsRestClassifier(LogisticRegression(penalty=penalty, solver='liblinear'))\n",
        "    else:\n",
        "        model = OneVsRestClassifier(LogisticRegression(penalty=penalty))\n",
        "    return model.fit(X_train, y_train)\n",
        "\n",
        "classifier_mybag_l1 = train_classifier(X_train_mybag, y_train, 'l1')\n",
        "classifier_mybag_l2 = train_classifier(X_train_mybag, y_train, 'l2')\n",
        "classifier_tfidf_l1 = train_classifier(X_train_tfidf, y_train, 'l1')\n",
        "classifier_tfidf_l2 = train_classifier(X_train_tfidf, y_train, 'l2')\n"
      ],
      "metadata": {
        "colab": {
          "base_uri": "https://localhost:8080/"
        },
        "id": "sajW9Llh7Hho",
        "outputId": "60b86443-f571-47aa-be80-bdd96f26a1df"
      },
      "execution_count": 13,
      "outputs": [
        {
          "output_type": "stream",
          "name": "stderr",
          "text": [
            "/usr/local/lib/python3.10/dist-packages/sklearn/linear_model/_logistic.py:460: ConvergenceWarning: lbfgs failed to converge (status=1):\n",
            "STOP: TOTAL NO. of ITERATIONS REACHED LIMIT.\n",
            "\n",
            "Increase the number of iterations (max_iter) or scale the data as shown in:\n",
            "    https://scikit-learn.org/stable/modules/preprocessing.html\n",
            "Please also refer to the documentation for alternative solver options:\n",
            "    https://scikit-learn.org/stable/modules/linear_model.html#logistic-regression\n",
            "  n_iter_i = _check_optimize_result(\n",
            "/usr/local/lib/python3.10/dist-packages/sklearn/linear_model/_logistic.py:460: ConvergenceWarning: lbfgs failed to converge (status=1):\n",
            "STOP: TOTAL NO. of ITERATIONS REACHED LIMIT.\n",
            "\n",
            "Increase the number of iterations (max_iter) or scale the data as shown in:\n",
            "    https://scikit-learn.org/stable/modules/preprocessing.html\n",
            "Please also refer to the documentation for alternative solver options:\n",
            "    https://scikit-learn.org/stable/modules/linear_model.html#logistic-regression\n",
            "  n_iter_i = _check_optimize_result(\n",
            "/usr/local/lib/python3.10/dist-packages/sklearn/linear_model/_logistic.py:460: ConvergenceWarning: lbfgs failed to converge (status=1):\n",
            "STOP: TOTAL NO. of ITERATIONS REACHED LIMIT.\n",
            "\n",
            "Increase the number of iterations (max_iter) or scale the data as shown in:\n",
            "    https://scikit-learn.org/stable/modules/preprocessing.html\n",
            "Please also refer to the documentation for alternative solver options:\n",
            "    https://scikit-learn.org/stable/modules/linear_model.html#logistic-regression\n",
            "  n_iter_i = _check_optimize_result(\n",
            "/usr/local/lib/python3.10/dist-packages/sklearn/linear_model/_logistic.py:460: ConvergenceWarning: lbfgs failed to converge (status=1):\n",
            "STOP: TOTAL NO. of ITERATIONS REACHED LIMIT.\n",
            "\n",
            "Increase the number of iterations (max_iter) or scale the data as shown in:\n",
            "    https://scikit-learn.org/stable/modules/preprocessing.html\n",
            "Please also refer to the documentation for alternative solver options:\n",
            "    https://scikit-learn.org/stable/modules/linear_model.html#logistic-regression\n",
            "  n_iter_i = _check_optimize_result(\n",
            "/usr/local/lib/python3.10/dist-packages/sklearn/linear_model/_logistic.py:460: ConvergenceWarning: lbfgs failed to converge (status=1):\n",
            "STOP: TOTAL NO. of ITERATIONS REACHED LIMIT.\n",
            "\n",
            "Increase the number of iterations (max_iter) or scale the data as shown in:\n",
            "    https://scikit-learn.org/stable/modules/preprocessing.html\n",
            "Please also refer to the documentation for alternative solver options:\n",
            "    https://scikit-learn.org/stable/modules/linear_model.html#logistic-regression\n",
            "  n_iter_i = _check_optimize_result(\n",
            "/usr/local/lib/python3.10/dist-packages/sklearn/linear_model/_logistic.py:460: ConvergenceWarning: lbfgs failed to converge (status=1):\n",
            "STOP: TOTAL NO. of ITERATIONS REACHED LIMIT.\n",
            "\n",
            "Increase the number of iterations (max_iter) or scale the data as shown in:\n",
            "    https://scikit-learn.org/stable/modules/preprocessing.html\n",
            "Please also refer to the documentation for alternative solver options:\n",
            "    https://scikit-learn.org/stable/modules/linear_model.html#logistic-regression\n",
            "  n_iter_i = _check_optimize_result(\n",
            "/usr/local/lib/python3.10/dist-packages/sklearn/linear_model/_logistic.py:460: ConvergenceWarning: lbfgs failed to converge (status=1):\n",
            "STOP: TOTAL NO. of ITERATIONS REACHED LIMIT.\n",
            "\n",
            "Increase the number of iterations (max_iter) or scale the data as shown in:\n",
            "    https://scikit-learn.org/stable/modules/preprocessing.html\n",
            "Please also refer to the documentation for alternative solver options:\n",
            "    https://scikit-learn.org/stable/modules/linear_model.html#logistic-regression\n",
            "  n_iter_i = _check_optimize_result(\n",
            "/usr/local/lib/python3.10/dist-packages/sklearn/linear_model/_logistic.py:460: ConvergenceWarning: lbfgs failed to converge (status=1):\n",
            "STOP: TOTAL NO. of ITERATIONS REACHED LIMIT.\n",
            "\n",
            "Increase the number of iterations (max_iter) or scale the data as shown in:\n",
            "    https://scikit-learn.org/stable/modules/preprocessing.html\n",
            "Please also refer to the documentation for alternative solver options:\n",
            "    https://scikit-learn.org/stable/modules/linear_model.html#logistic-regression\n",
            "  n_iter_i = _check_optimize_result(\n",
            "/usr/local/lib/python3.10/dist-packages/sklearn/linear_model/_logistic.py:460: ConvergenceWarning: lbfgs failed to converge (status=1):\n",
            "STOP: TOTAL NO. of ITERATIONS REACHED LIMIT.\n",
            "\n",
            "Increase the number of iterations (max_iter) or scale the data as shown in:\n",
            "    https://scikit-learn.org/stable/modules/preprocessing.html\n",
            "Please also refer to the documentation for alternative solver options:\n",
            "    https://scikit-learn.org/stable/modules/linear_model.html#logistic-regression\n",
            "  n_iter_i = _check_optimize_result(\n",
            "/usr/local/lib/python3.10/dist-packages/sklearn/linear_model/_logistic.py:460: ConvergenceWarning: lbfgs failed to converge (status=1):\n",
            "STOP: TOTAL NO. of ITERATIONS REACHED LIMIT.\n",
            "\n",
            "Increase the number of iterations (max_iter) or scale the data as shown in:\n",
            "    https://scikit-learn.org/stable/modules/preprocessing.html\n",
            "Please also refer to the documentation for alternative solver options:\n",
            "    https://scikit-learn.org/stable/modules/linear_model.html#logistic-regression\n",
            "  n_iter_i = _check_optimize_result(\n",
            "/usr/local/lib/python3.10/dist-packages/sklearn/linear_model/_logistic.py:460: ConvergenceWarning: lbfgs failed to converge (status=1):\n",
            "STOP: TOTAL NO. of ITERATIONS REACHED LIMIT.\n",
            "\n",
            "Increase the number of iterations (max_iter) or scale the data as shown in:\n",
            "    https://scikit-learn.org/stable/modules/preprocessing.html\n",
            "Please also refer to the documentation for alternative solver options:\n",
            "    https://scikit-learn.org/stable/modules/linear_model.html#logistic-regression\n",
            "  n_iter_i = _check_optimize_result(\n",
            "/usr/local/lib/python3.10/dist-packages/sklearn/linear_model/_logistic.py:460: ConvergenceWarning: lbfgs failed to converge (status=1):\n",
            "STOP: TOTAL NO. of ITERATIONS REACHED LIMIT.\n",
            "\n",
            "Increase the number of iterations (max_iter) or scale the data as shown in:\n",
            "    https://scikit-learn.org/stable/modules/preprocessing.html\n",
            "Please also refer to the documentation for alternative solver options:\n",
            "    https://scikit-learn.org/stable/modules/linear_model.html#logistic-regression\n",
            "  n_iter_i = _check_optimize_result(\n",
            "/usr/local/lib/python3.10/dist-packages/sklearn/linear_model/_logistic.py:460: ConvergenceWarning: lbfgs failed to converge (status=1):\n",
            "STOP: TOTAL NO. of ITERATIONS REACHED LIMIT.\n",
            "\n",
            "Increase the number of iterations (max_iter) or scale the data as shown in:\n",
            "    https://scikit-learn.org/stable/modules/preprocessing.html\n",
            "Please also refer to the documentation for alternative solver options:\n",
            "    https://scikit-learn.org/stable/modules/linear_model.html#logistic-regression\n",
            "  n_iter_i = _check_optimize_result(\n",
            "/usr/local/lib/python3.10/dist-packages/sklearn/linear_model/_logistic.py:460: ConvergenceWarning: lbfgs failed to converge (status=1):\n",
            "STOP: TOTAL NO. of ITERATIONS REACHED LIMIT.\n",
            "\n",
            "Increase the number of iterations (max_iter) or scale the data as shown in:\n",
            "    https://scikit-learn.org/stable/modules/preprocessing.html\n",
            "Please also refer to the documentation for alternative solver options:\n",
            "    https://scikit-learn.org/stable/modules/linear_model.html#logistic-regression\n",
            "  n_iter_i = _check_optimize_result(\n",
            "/usr/local/lib/python3.10/dist-packages/sklearn/linear_model/_logistic.py:460: ConvergenceWarning: lbfgs failed to converge (status=1):\n",
            "STOP: TOTAL NO. of ITERATIONS REACHED LIMIT.\n",
            "\n",
            "Increase the number of iterations (max_iter) or scale the data as shown in:\n",
            "    https://scikit-learn.org/stable/modules/preprocessing.html\n",
            "Please also refer to the documentation for alternative solver options:\n",
            "    https://scikit-learn.org/stable/modules/linear_model.html#logistic-regression\n",
            "  n_iter_i = _check_optimize_result(\n",
            "/usr/local/lib/python3.10/dist-packages/sklearn/linear_model/_logistic.py:460: ConvergenceWarning: lbfgs failed to converge (status=1):\n",
            "STOP: TOTAL NO. of ITERATIONS REACHED LIMIT.\n",
            "\n",
            "Increase the number of iterations (max_iter) or scale the data as shown in:\n",
            "    https://scikit-learn.org/stable/modules/preprocessing.html\n",
            "Please also refer to the documentation for alternative solver options:\n",
            "    https://scikit-learn.org/stable/modules/linear_model.html#logistic-regression\n",
            "  n_iter_i = _check_optimize_result(\n",
            "/usr/local/lib/python3.10/dist-packages/sklearn/linear_model/_logistic.py:460: ConvergenceWarning: lbfgs failed to converge (status=1):\n",
            "STOP: TOTAL NO. of ITERATIONS REACHED LIMIT.\n",
            "\n",
            "Increase the number of iterations (max_iter) or scale the data as shown in:\n",
            "    https://scikit-learn.org/stable/modules/preprocessing.html\n",
            "Please also refer to the documentation for alternative solver options:\n",
            "    https://scikit-learn.org/stable/modules/linear_model.html#logistic-regression\n",
            "  n_iter_i = _check_optimize_result(\n",
            "/usr/local/lib/python3.10/dist-packages/sklearn/linear_model/_logistic.py:460: ConvergenceWarning: lbfgs failed to converge (status=1):\n",
            "STOP: TOTAL NO. of ITERATIONS REACHED LIMIT.\n",
            "\n",
            "Increase the number of iterations (max_iter) or scale the data as shown in:\n",
            "    https://scikit-learn.org/stable/modules/preprocessing.html\n",
            "Please also refer to the documentation for alternative solver options:\n",
            "    https://scikit-learn.org/stable/modules/linear_model.html#logistic-regression\n",
            "  n_iter_i = _check_optimize_result(\n"
          ]
        }
      ]
    },
    {
      "cell_type": "code",
      "source": [
        "from sklearn.metrics import accuracy_score, f1_score, average_precision_score\n",
        "\n",
        "def evaluate(y_val, predicted):\n",
        "    print(\"Accuracy:\", accuracy_score(y_val, predicted))\n",
        "    print(\"F1 Macro:\", f1_score(y_val, predicted, average='macro'))\n",
        "    print(\"F1 Micro:\", f1_score(y_val, predicted, average='micro'))\n",
        "    print(\"Precision Macro:\", average_precision_score(y_val, predicted, average='macro'))\n",
        "\n",
        "print('Bag-of-words L1')\n",
        "evaluate(y_val, classifier_mybag_l1.predict(X_val_mybag))\n",
        "print('Bag-of-words L2')\n",
        "evaluate(y_val, classifier_mybag_l2.predict(X_val_mybag))\n",
        "print('Tfidf L1')\n",
        "evaluate(y_val, classifier_tfidf_l1.predict(X_val_tfidf))\n",
        "print('Tfidf L2')\n",
        "evaluate(y_val, classifier_tfidf_l2.predict(X_val_tfidf))"
      ],
      "metadata": {
        "colab": {
          "base_uri": "https://localhost:8080/"
        },
        "id": "bodBWl5S8DDf",
        "outputId": "857d6121-8f67-45b9-e4eb-3df6dd67cb00"
      },
      "execution_count": 14,
      "outputs": [
        {
          "output_type": "stream",
          "name": "stdout",
          "text": [
            "Bag-of-words L1\n",
            "Accuracy: 0.36336666666666667\n",
            "F1 Macro: 0.5184369982501239\n",
            "F1 Micro: 0.6771429748321457\n",
            "Precision Macro: 0.35548568534985414\n",
            "Bag-of-words L2\n",
            "Accuracy: 0.3566666666666667\n",
            "F1 Macro: 0.5038295669070777\n",
            "F1 Micro: 0.670000935813586\n",
            "Precision Macro: 0.3435869170207129\n",
            "Tfidf L1\n",
            "Accuracy: 0.3653666666666667\n",
            "F1 Macro: 0.5090399703429909\n",
            "F1 Micro: 0.6750588774723328\n",
            "Precision Macro: 0.3492932305071853\n",
            "Tfidf L2\n",
            "Accuracy: 0.33436666666666665\n",
            "F1 Macro: 0.44489652742155206\n",
            "F1 Micro: 0.6414867055061545\n",
            "Precision Macro: 0.3014584947034525\n"
          ]
        }
      ]
    },
    {
      "cell_type": "code",
      "source": [
        "y_test_predicted_labels_tfidf_l1 = classifier_tfidf_l1.predict(X_test_tfidf)\n",
        "y_test_predicted = mlb.inverse_transform(y_test_predicted_labels_tfidf_l1)\n",
        "\n",
        "for title, tags in zip(test['title'].values[:20], y_test_predicted[:20]):\n",
        "    print(f\"{title}\\n{tags}\\n\")"
      ],
      "metadata": {
        "colab": {
          "base_uri": "https://localhost:8080/"
        },
        "id": "agWqnkVO8Gki",
        "outputId": "b05a26fb-7493-4999-caa6-1662df66ccdc"
      },
      "execution_count": 15,
      "outputs": [
        {
          "output_type": "stream",
          "name": "stdout",
          "text": [
            "Warning: mysql_query() expects parameter 2 to be resource, object given\n",
            "('mysql', 'php')\n",
            "\n",
            "get click coordinates from <input type='image'> via javascript\n",
            "('javascript',)\n",
            "\n",
            "How to implement cloud storage for media assets in ZF?\n",
            "()\n",
            "\n",
            "What is catcomplete in jQuery's autocomplete plugin?\n",
            "('javascript', 'jquery')\n",
            "\n",
            "Error building Android app with Cordova 3.1 CLI\n",
            "('android', 'java')\n",
            "\n",
            "How to Parse XML File in PHP\n",
            "('php', 'xml')\n",
            "\n",
            "Uploading files via JSON Post request to a Web Service provided by Teambox\n",
            "('json',)\n",
            "\n",
            "Adding rows to JTable in the right order.\n",
            "('java', 'swing')\n",
            "\n",
            "How to read input file in Python?\n",
            "('python',)\n",
            "\n",
            "PDF generation from an html containing images and text\n",
            "('html',)\n",
            "\n",
            "Trying to get sql query to be dynamic with jquery\n",
            "('jquery',)\n",
            "\n",
            "Fiting 2-parameters weibull distribution for tabulated data\n",
            "('r',)\n",
            "\n",
            "Add six months in php\n",
            "('php',)\n",
            "\n",
            "Where/How to code Constants in Rails 3 Application\n",
            "('ruby-on-rails', 'ruby-on-rails-3')\n",
            "\n",
            "Comparing list of items with one of the column in DataTable\n",
            "('c#',)\n",
            "\n",
            "python sort upper case and lower case\n",
            "('python',)\n",
            "\n",
            "How do I make a pointer to a multidimensional array which has an unknown size?\n",
            "()\n",
            "\n",
            "Rails 3 Trigger AJAX Submit On Radio Button Change is rendering html response\n",
            "('ajax', 'html', 'javascript', 'jquery', 'ruby-on-rails')\n",
            "\n",
            "Source code of apps in windows8\n",
            "()\n",
            "\n",
            "Callback on sockets in linux\n",
            "('c', 'linux', 'sockets')\n",
            "\n"
          ]
        }
      ]
    },
    {
      "cell_type": "code",
      "source": [
        "def print_words_for_tag(classifier, tag, index_to_words):\n",
        "    print(f'Tag: {tag}')\n",
        "    est = classifier.estimators_[mlb.classes.index(tag)]\n",
        "    top_positive_words = [index_to_words[i] for i in est.coef_.argsort()[0][-5:]]\n",
        "    top_negative_words = [index_to_words[i] for i in est.coef_.argsort()[0][:5]]\n",
        "    print('Top positive words:', ', '.join(top_positive_words))\n",
        "    print('Top negative words:', ', '.join(top_negative_words))\n",
        "\n",
        "for tag in ['c', 'c++', 'linux', 'python', 'java', 'android', 'r', 'ios', 'windows']:\n",
        "    print_words_for_tag(classifier_tfidf_l1, tag, tfidf_reversed_vocab)"
      ],
      "metadata": {
        "colab": {
          "base_uri": "https://localhost:8080/"
        },
        "id": "fi8tIOR_8I-8",
        "outputId": "9c7108cd-788f-4484-88f2-5e1d51c52c1b"
      },
      "execution_count": 17,
      "outputs": [
        {
          "output_type": "stream",
          "name": "stdout",
          "text": [
            "Tag: c\n",
            "Top positive words: fscanf, printf, malloc, scanf, c\n",
            "Top negative words: c #, php, javascript, java, python\n",
            "Tag: c++\n",
            "Top positive words: stl, mfc, qt, boost, c++\n",
            "Top negative words: php, java, javascript, python, jquery\n",
            "Tag: linux\n",
            "Top positive words: ubuntu, system call, signal, kernel space, linux\n",
            "Top negative words: #, javascript, jquery, array, aspnet\n",
            "Tag: python\n",
            "Top positive words: tkinter, matplotlib, pandas, numpy, python\n",
            "Top negative words: php, java, c, django python, jquery\n",
            "Tag: java\n",
            "Top positive words: jtable, jar, hibernate, spring, java\n",
            "Top negative words: php, python, ruby, rails, django\n",
            "Tag: android\n",
            "Top positive words: intent, edittext, asynctask, retrofit, android\n",
            "Top negative words: python, c, swift, iphone, phonegap android\n",
            "Tag: r\n",
            "Top positive words: rstudio, shiny, ggplot, ggplot2, r\n",
            "Top negative words: android, php, python, java, c\n",
            "Tag: ios\n",
            "Top positive words: uilabel, afnetworking, uicollectionview, swift, ios\n",
            "Top negative words: java, python, php, jquery, rails\n",
            "Tag: windows\n",
            "Top positive words: wmi, multithreaded application, windowsh, mingw, windows\n",
            "Top negative words: javascript, jquery, windows phone, windows form, array\n"
          ]
        }
      ]
    }
  ]
}